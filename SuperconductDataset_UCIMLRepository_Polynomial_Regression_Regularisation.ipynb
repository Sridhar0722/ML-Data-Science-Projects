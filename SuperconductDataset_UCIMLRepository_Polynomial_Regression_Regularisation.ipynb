{
  "nbformat": 4,
  "nbformat_minor": 0,
  "metadata": {
    "colab": {
      "name": "SuperconductDataset_UCIMLRepository_Polynomial_Regression_Regularisation.ipynb",
      "version": "0.3.2",
      "provenance": [],
      "collapsed_sections": []
    },
    "kernelspec": {
      "name": "python3",
      "display_name": "Python 3"
    }
  },
  "cells": [
    {
      "cell_type": "code",
      "metadata": {
        "id": "Ry-PUcfFYFXu",
        "colab_type": "code",
        "outputId": "91de1d40-e60c-4e92-92aa-19c1c56d0fe4",
        "colab": {
          "base_uri": "https://localhost:8080/",
          "height": 204
        }
      },
      "source": [
        "!wget https://archive.ics.uci.edu/ml/machine-learning-databases/00464/superconduct.zip"
      ],
      "execution_count": 0,
      "outputs": [
        {
          "output_type": "stream",
          "text": [
            "--2019-06-18 16:31:33--  https://archive.ics.uci.edu/ml/machine-learning-databases/00464/superconduct.zip\n",
            "Resolving archive.ics.uci.edu (archive.ics.uci.edu)... 128.195.10.252\n",
            "Connecting to archive.ics.uci.edu (archive.ics.uci.edu)|128.195.10.252|:443... connected.\n",
            "HTTP request sent, awaiting response... 200 OK\n",
            "Length: 8300005 (7.9M) [application/x-httpd-php]\n",
            "Saving to: ‘superconduct.zip’\n",
            "\n",
            "\rsuperconduct.zip      0%[                    ]       0  --.-KB/s               \rsuperconduct.zip     22%[===>                ]   1.78M  8.89MB/s               \rsuperconduct.zip    100%[===================>]   7.92M  28.7MB/s    in 0.3s    \n",
            "\n",
            "2019-06-18 16:31:34 (28.7 MB/s) - ‘superconduct.zip’ saved [8300005/8300005]\n",
            "\n"
          ],
          "name": "stdout"
        }
      ]
    },
    {
      "cell_type": "code",
      "metadata": {
        "id": "6w_agVazbfJf",
        "colab_type": "code",
        "outputId": "fce80b82-9ce5-4543-b47f-bdf44cd1f92b",
        "colab": {
          "base_uri": "https://localhost:8080/",
          "height": 68
        }
      },
      "source": [
        "!unzip superconduct.zip"
      ],
      "execution_count": 0,
      "outputs": [
        {
          "output_type": "stream",
          "text": [
            "Archive:  superconduct.zip\n",
            "  inflating: unique_m.csv            \n",
            "  inflating: train.csv               \n"
          ],
          "name": "stdout"
        }
      ]
    },
    {
      "cell_type": "code",
      "metadata": {
        "id": "6Hl-RUdKbir-",
        "colab_type": "code",
        "colab": {}
      },
      "source": [
        ""
      ],
      "execution_count": 0,
      "outputs": []
    },
    {
      "cell_type": "code",
      "metadata": {
        "id": "86-SG_HFaVXG",
        "colab_type": "code",
        "colab": {}
      },
      "source": [
        "import pandas as pd\n",
        "import numpy as np\n",
        "import matplotlib.pyplot as plt\n",
        "from IPython.display import clear_output\n",
        "import random"
      ],
      "execution_count": 0,
      "outputs": []
    },
    {
      "cell_type": "code",
      "metadata": {
        "id": "IZULVa7yaiSe",
        "colab_type": "code",
        "colab": {}
      },
      "source": [
        "data = pd.read_csv(\"train.csv\")"
      ],
      "execution_count": 0,
      "outputs": []
    },
    {
      "cell_type": "code",
      "metadata": {
        "id": "ueALTt2qamSx",
        "colab_type": "code",
        "colab": {}
      },
      "source": [
        "Y = data['critical_temp']\n",
        "X = data.drop(['critical_temp'],axis = 1).copy()"
      ],
      "execution_count": 0,
      "outputs": []
    },
    {
      "cell_type": "code",
      "metadata": {
        "id": "eWpduVAVamiZ",
        "colab_type": "code",
        "colab": {}
      },
      "source": [
        "X = X.select_dtypes(include=['int64','int32','float64','float32'])"
      ],
      "execution_count": 0,
      "outputs": []
    },
    {
      "cell_type": "code",
      "metadata": {
        "id": "gFRVV9NGcFDI",
        "colab_type": "code",
        "colab": {}
      },
      "source": [
        "X_temp = X\n",
        "for i in range(0,len(X_temp.T)):\n",
        "  X_temp.T.iloc[i] = X_temp.T.iloc[i]**(i+1)"
      ],
      "execution_count": 0,
      "outputs": []
    },
    {
      "cell_type": "code",
      "metadata": {
        "id": "JseNIziad9Hr",
        "colab_type": "code",
        "outputId": "7eee0c48-f28f-452e-9ec3-bec86c2728fb",
        "colab": {
          "base_uri": "https://localhost:8080/",
          "height": 34
        }
      },
      "source": [
        "Y.shape"
      ],
      "execution_count": 0,
      "outputs": [
        {
          "output_type": "execute_result",
          "data": {
            "text/plain": [
              "(21263,)"
            ]
          },
          "metadata": {
            "tags": []
          },
          "execution_count": 24
        }
      ]
    },
    {
      "cell_type": "code",
      "metadata": {
        "id": "ZaLM36cZdz-V",
        "colab_type": "code",
        "colab": {}
      },
      "source": [
        "Y = np.array(Y)\n",
        "Y = np.reshape(Y,[1,len(Y)])"
      ],
      "execution_count": 0,
      "outputs": []
    },
    {
      "cell_type": "code",
      "metadata": {
        "id": "Iim5s53yjuj7",
        "colab_type": "code",
        "colab": {}
      },
      "source": [
        "X = X/X.max()\n",
        "X_temp = X_temp/X_temp.max()\n",
        "Y = Y/Y.max()"
      ],
      "execution_count": 0,
      "outputs": []
    },
    {
      "cell_type": "code",
      "metadata": {
        "id": "9w2RK0ZicSKE",
        "colab_type": "code",
        "colab": {}
      },
      "source": [
        "def curve(m,x,c):\n",
        "  return np.dot(m,x.T) + c\n",
        "\n",
        "def error(m,x,c,y):\n",
        "  return np.mean((curve(m,x,c)-y)**2)\n",
        "\n",
        "def derivative_slope_general(m,x,c,y):\n",
        "  inside_bracket = curve(m,x,c)-y\n",
        "  temp = 2*np.mean((np.multiply(inside_bracket,x.T)),axis = 1)\n",
        "  temp = np.array(temp)\n",
        "  temp = np.reshape(temp,[1,len(temp)])\n",
        "  return temp\n",
        "\n",
        "def derivative_intercept_general(m,x,c,y):\n",
        "  inside_bracket = curve(m,x,c)-y\n",
        "  return 2*np.mean(inside_bracket)\n",
        "\n",
        "def accuracy_pred(error_t,Y):\n",
        "  return 100 - (error_t/np.mean(Y**2))*100"
      ],
      "execution_count": 0,
      "outputs": []
    },
    {
      "cell_type": "code",
      "metadata": {
        "id": "9W_Yh0wWdoev",
        "colab_type": "code",
        "outputId": "16d512c2-9fd5-40cc-9267-629bdf9de001",
        "colab": {
          "base_uri": "https://localhost:8080/",
          "height": 34
        }
      },
      "source": [
        "m = np.random.randn(1,len(X.T))\n",
        "c = random.random()\n",
        "\n",
        "lr = 0.0000000000000001\n",
        "iters = 500\n",
        "cost = []\n",
        "while(True):\n",
        "  m = m - lr*derivative_slope_general(m,X_temp,c,Y)\n",
        "  c = c - lr*derivative_intercept_general(m,X_temp,c,Y)\n",
        "  cost.append(error(m,X_temp,c,Y))\n",
        "  print(\"Current Error: \",error(m,X_temp,c,Y))\n",
        "#   print(\"Accuracy: \",accuracy_pred(error(m,X_temp,c,Y),Y))\n",
        "  i += 1\n",
        "  clear_output(True)\n",
        "  try:\n",
        "    if(cost[i-1]-cost[i-2]<0.001):\n",
        "      break\n",
        "  except:\n",
        "    pass\n",
        "plt.plot(cost)\n",
        "plt.show()"
      ],
      "execution_count": 0,
      "outputs": [
        {
          "output_type": "stream",
          "text": [
            "Current Error:  8.084726320328523\n"
          ],
          "name": "stdout"
        }
      ]
    },
    {
      "cell_type": "code",
      "metadata": {
        "id": "heKExaPGgJBD",
        "colab_type": "code",
        "colab": {}
      },
      "source": [
        "cprint(\"Shape Mean Axis = 1 | Pandas: \",np.mean(temp_pandas,axis = 1).shape)\n",
        "print(\"Shape Mean Axis = 1 | Numpy :\",np.mean(temp_numpy,axis = 1).shape)"
      ],
      "execution_count": 0,
      "outputs": []
    },
    {
      "cell_type": "code",
      "metadata": {
        "id": "-QPCg3PkggeP",
        "colab_type": "code",
        "colab": {}
      },
      "source": [
        ""
      ],
      "execution_count": 0,
      "outputs": []
    }
  ]
}